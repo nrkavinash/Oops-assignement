{
 "cells": [
  {
   "cell_type": "markdown",
   "id": "f95f4aac-464c-4421-84b2-418aceabb0d8",
   "metadata": {},
   "source": [
    "# Q1 QUESTIONS"
   ]
  },
  {
   "cell_type": "code",
   "execution_count": 1,
   "id": "dd087185-0e20-4d35-a2dd-0a56abc27e03",
   "metadata": {},
   "outputs": [],
   "source": [
    "class Vehicle:\n",
    "\n",
    "    def __init__(self, name, max_speed, mileage):\n",
    "        self.name = name\n",
    "        self.max_speed = max_speed\n",
    "        self.mileage = mileage\n",
    "    def return_Vehicle_details(self):\n",
    "        return self.name,self.max_speed,self.mileage"
   ]
  },
  {
   "cell_type": "code",
   "execution_count": 2,
   "id": "3fcba04a-7d38-42ad-9d77-1e54d92ca6b3",
   "metadata": {},
   "outputs": [],
   "source": [
    "TATA=Vehicle(\"TATA_SAFARI\",165,15)"
   ]
  },
  {
   "cell_type": "code",
   "execution_count": 3,
   "id": "cab0eb80-3197-4f7a-a3b1-1ee6f6b1187e",
   "metadata": {},
   "outputs": [
    {
     "data": {
      "text/plain": [
       "('TATA_SAFARI', 165, 15)"
      ]
     },
     "execution_count": 3,
     "metadata": {},
     "output_type": "execute_result"
    }
   ],
   "source": [
    "TATA.return_Vehicle_details()"
   ]
  },
  {
   "cell_type": "markdown",
   "id": "6513e1f5-a319-4e16-a74f-17708cbf4410",
   "metadata": {},
   "source": [
    "# Q2 ANSWER"
   ]
  },
  {
   "cell_type": "code",
   "execution_count": 4,
   "id": "024c8b9b-e481-4b88-a283-d865d691986f",
   "metadata": {},
   "outputs": [
    {
     "name": "stdout",
     "output_type": "stream",
     "text": [
      "The seating capacity of a TATA_SAFARI is 7 passengers\n"
     ]
    }
   ],
   "source": [
    "class Vehicle:\n",
    "    def __init__(self, name, max_speed, mileage):\n",
    "        self.name = name\n",
    "        self.max_speed = max_speed\n",
    "        self.mileage = mileage\n",
    "\n",
    "    def seating_capacity(self, capacity):\n",
    "        return (f\"The seating capacity of a {self.name} is {capacity} passengers\")\n",
    "    \n",
    "class Car(Vehicle):\n",
    "    def seating_capacity(self, capacity=7):\n",
    "        return super().seating_capacity(capacity=7)\n",
    "    \n",
    "    \n",
    "    \n",
    "TATA = Car(\"TATA_SAFARI\",165,15)\n",
    "print(TATA.seating_capacity())"
   ]
  },
  {
   "cell_type": "markdown",
   "id": "84d7d382-d591-414b-ad5c-ce1fb644be97",
   "metadata": {},
   "source": [
    "# Q3 ANSWER"
   ]
  },
  {
   "cell_type": "code",
   "execution_count": 25,
   "id": "6ae6823f-84fa-44af-8d81-596a84451fa0",
   "metadata": {},
   "outputs": [
    {
     "name": "stdout",
     "output_type": "stream",
     "text": [
      "Your are in Degree college\n",
      "Your are in high_School\n",
      "Your are in PUC college\n",
      "Your are in School\n"
     ]
    }
   ],
   "source": [
    "class Primary_school1:\n",
    "    def m(self):\n",
    "        print(\"Your are in School\")\n",
    "\n",
    "class High_school2(Primary_school1):\n",
    "    def m(self):\n",
    "        print(\"Your are in high_School\")\n",
    "\n",
    "class College(Primary_school1):\n",
    "    def m(self):\n",
    "         print(\"Your are in PUC college\")    \n",
    "\n",
    "class Degree_College(High_school2,Primary_school1):\n",
    "    def m(self):\n",
    "        print(\"Your are in Degree college\")  \n",
    "obj = Degree_College()\n",
    "obj.m()\n",
    "\n",
    " \n",
    "High_school2.m(obj)\n",
    "College.m(obj)\n",
    "Primary_school1.m(obj)"
   ]
  },
  {
   "cell_type": "markdown",
   "id": "416a6847-841a-46f1-9f54-51d6caa4c235",
   "metadata": {},
   "source": [
    "# Q4  ANSWER"
   ]
  },
  {
   "cell_type": "code",
   "execution_count": 31,
   "id": "09776b27-5400-43b7-87a3-a7ac505d3cb1",
   "metadata": {},
   "outputs": [
    {
     "name": "stdout",
     "output_type": "stream",
     "text": [
      "18\n",
      "18\n"
     ]
    }
   ],
   "source": [
    "class HIGH_SCHOOL:\n",
    "    def __init__(self, age = 0):\n",
    "         self._age = age\n",
    "      \n",
    "    # getter method\n",
    "    def get_age(self):\n",
    "        return self._age\n",
    "      \n",
    "    # setter method\n",
    "    def set_age(self, x):\n",
    "        self._age = x\n",
    "avi = HIGH_SCHOOL()\n",
    "  \n",
    "avi.set_age(18)\n",
    "  \n",
    "print(avi.get_age())\n",
    "  \n",
    "print(avi._age)"
   ]
  },
  {
   "cell_type": "code",
   "execution_count": 33,
   "id": "7231ba97-5c50-4fe2-adb6-cee975007293",
   "metadata": {},
   "outputs": [
    {
     "name": "stdout",
     "output_type": "stream",
     "text": [
      "10\n",
      "25\n"
     ]
    }
   ],
   "source": [
    "class Education:\n",
    "\n",
    "    def __init__(self, a):\n",
    "        ## private varibale or property in Python\n",
    "        self.__a = a\n",
    "\n",
    "    ## getter method to get the properties using an object\n",
    "    def get_a(self):\n",
    "        return self.__a\n",
    "\n",
    "    ## setter method to change the value 'a' using an object\n",
    "    def set_a(self, a):\n",
    "        self.__a = a\n",
    "\n",
    "        ## creating an object\n",
    "obj = Education(10)\n",
    "\n",
    "## getting the value of 'a' using get_a() method\n",
    "print(obj.get_a())\n",
    "\n",
    "## setting a new value to the 'a' using set_a() method\n",
    "obj.set_a(25)\n",
    "\n",
    "print(obj.get_a())"
   ]
  },
  {
   "cell_type": "markdown",
   "id": "aaa040f9-496d-417f-b310-7140261eb67e",
   "metadata": {},
   "source": [
    "# Q5 ANSWER"
   ]
  },
  {
   "cell_type": "code",
   "execution_count": 34,
   "id": "b367cb5f-c237-423c-ac65-3d1ac15a3ac8",
   "metadata": {},
   "outputs": [
    {
     "name": "stdout",
     "output_type": "stream",
     "text": [
      "Inside Child\n",
      "Inside Parent2\n"
     ]
    }
   ],
   "source": [
    "###  parent class 1  \n",
    "class Parent1():\n",
    "          \n",
    "    # Parent's show method\n",
    "    def show(self):\n",
    "        print(\"Inside Parent1\")\n",
    "          \n",
    "# Parent class 2\n",
    "class Parent2():\n",
    "          \n",
    "    # Parent's show method\n",
    "    def display(self):\n",
    "        print(\"Inside Parent2\")\n",
    "          \n",
    "### child class\n",
    "class Child(Parent1, Parent2):\n",
    "          \n",
    "    # Child's show method\n",
    "    def show(self):\n",
    "        print(\"Inside Child\")\n",
    "     \n",
    "        \n",
    "# Driver's code\n",
    "obj = Child()\n",
    "  \n",
    "obj.show()\n",
    "obj.display()"
   ]
  },
  {
   "cell_type": "code",
   "execution_count": null,
   "id": "df899914-de7c-474f-948e-64ac50480ba5",
   "metadata": {},
   "outputs": [],
   "source": []
  }
 ],
 "metadata": {
  "kernelspec": {
   "display_name": "Python 3 (ipykernel)",
   "language": "python",
   "name": "python3"
  },
  "language_info": {
   "codemirror_mode": {
    "name": "ipython",
    "version": 3
   },
   "file_extension": ".py",
   "mimetype": "text/x-python",
   "name": "python",
   "nbconvert_exporter": "python",
   "pygments_lexer": "ipython3",
   "version": "3.10.8"
  }
 },
 "nbformat": 4,
 "nbformat_minor": 5
}
